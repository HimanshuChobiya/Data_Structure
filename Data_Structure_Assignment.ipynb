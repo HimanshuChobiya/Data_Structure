{
  "nbformat": 4,
  "nbformat_minor": 0,
  "metadata": {
    "colab": {
      "provenance": []
    },
    "kernelspec": {
      "name": "python3",
      "display_name": "Python 3"
    },
    "language_info": {
      "name": "python"
    }
  },
  "cells": [
    {
      "cell_type": "markdown",
      "source": [
        "# Data Structure"
      ],
      "metadata": {
        "id": "lc_bYIze_IP9"
      }
    },
    {
      "cell_type": "markdown",
      "source": [
        "###Q.1. What are data structures, and why are they important?\n",
        "  \n",
        "  -> A data structure is a specialized way of organizing, managing, and storing data in a computer so that it can be accessed and modified efficiently.\n",
        "  \n",
        "  Importance of Data Structure\n",
        " 1. Efficiency:\n",
        "\n",
        "  Proper data structures allow algorithms to run faster with less resource consumption.\n",
        "  Example: Searching in a sorted array with binary search is much faster than a linear search.\n",
        "\n",
        " 2. Data Management:\n",
        "\n",
        "  Organizes and stores data efficiently, making it easier to retrieve, modify, and manage large amounts of information.\n",
        "\n",
        " 3. Scalability:\n",
        "\n",
        "  Allows systems to handle more data as they grow without degrading performance.\n",
        "\n",
        " 4. Reusability and Modularity:\n",
        "\n",
        "  Well-designed data structures can be reused in different applications, reducing development time.\n"
      ],
      "metadata": {
        "id": "AbwHbuPOANMp"
      }
    },
    {
      "cell_type": "markdown",
      "source": [
        "###Q.2.  Explain the difference between mutable and immutable data types with examples.\n",
        "\n",
        "  -> Mutable data types\n",
        "    \n",
        "     Definition: Objects that can be modified after they are created.\n",
        "     \n",
        "     Modification: You can change the value of an object without changing its identity (memory address).\n",
        "\n",
        "     Examples of Mutable Data Types:\n",
        "     1.list\n",
        "     2.Dictionary\n",
        "     3.Set\n",
        "\n",
        "     Immutable Data Types:\n",
        "\n",
        "     Definition: Objects that cannot be modified after they are created.\n",
        "     \n",
        "     Modification: Any attempt to modify results in the creation of a new object with a different memory address.\n",
        "\n",
        "     Examples of Immutable Data Types:\n",
        "     1.String\n",
        "     2.Tuple\n",
        "     3.Integer\n",
        "     4.Float\n"
      ],
      "metadata": {
        "id": "nyTtkvPqBToo"
      }
    },
    {
      "cell_type": "markdown",
      "source": [
        "###Q.3.  What are the main differences between lists and tuples in Python?\n",
        "\n",
        "  -> 1. Mutability\n",
        "\n",
        "  List: Mutable – You can modify, add, or remove elements.\n",
        "  \n",
        "  Tuple: Immutable – Once created, you cannot modify the elements.\n",
        "  \n",
        "  2.Syntax\n",
        "\n",
        "  List: Defined using square brackets [].\n",
        "  \n",
        "  Tuple: Defined using parentheses ().\n",
        "  \n",
        "  3.Performance\n",
        "  \n",
        "  List: Slower due to mutability and dynamic allocation.\n",
        "  \n",
        "  Tuple: Faster because of immutability, making it more memory-efficient.\n",
        "\n",
        "  4.Methods\n",
        "\n",
        "  List: Has more built-in methods such as append(), remove(), pop(), etc.\n",
        "  \n",
        "  Tuple: Limited methods – Only supports count() and index().\n",
        "\n",
        "  5.Memory Usage\n",
        "\n",
        "  List: Consumes more memory due to dynamic resizing.\n",
        "\n",
        "  Tuple: Consumes less memory as it has a fixed size."
      ],
      "metadata": {
        "id": "SPQbDKVRCy2G"
      }
    },
    {
      "cell_type": "markdown",
      "source": [
        "###Q.4.  Describe how dictionaries store data?\n",
        "  \n",
        "  -> Dictionaries are used to store data values in key:value pairs. A dictionary is a collection which is ordered, changeable and do not allow duplicates.\n",
        "  \n",
        "  Keys: Unique and immutable (e.g., strings, numbers, or tuples).\n",
        "\n",
        "  Values: Can be any data type.\n",
        "  \n",
        "  Dictionaries use a hash table or hash map to store key-value pairs.\n"
      ],
      "metadata": {
        "id": "yvFVramAEqb9"
      }
    },
    {
      "cell_type": "markdown",
      "source": [
        "###Q.5.  Why might you use a set instead of a list in Python?\n",
        "  \n",
        "  ->\n",
        "1. Uniqueness of Elements:\n",
        "\n",
        "  Set: Automatically removes duplicate values.\n",
        "\n",
        "  List: Allows duplicate values.\n",
        "\n",
        "2. Better Performance for Large Datasets:\n",
        "\n",
        "  Set: Ideal for handling large datasets where duplicates are not allowed and quick lookup is required.\n",
        "\n",
        "  List: Slower when performing operations on large data with frequent lookups or removals.\n",
        "\n",
        "3. Set Operations (Union, Intersection, Difference):\n",
        "\n",
        "  Set: Provides built-in methods for set operations.\n",
        "\n",
        "  List: Requires custom logic to perform these operations.\n",
        "\n"
      ],
      "metadata": {
        "id": "Xa53OWVZFmI0"
      }
    },
    {
      "cell_type": "markdown",
      "source": [
        "###Q.6. What is a string in Python, and how is it different from a list?\n",
        "\n",
        "  ->\n",
        "1. Mutability:\n",
        "\n",
        "String: Immutable – You cannot modify individual characters.\n",
        "\n",
        "List: Mutable – You can modify, add, or remove elements.\n",
        "\n",
        "2. Element Types:\n",
        "\n",
        "String: Contains only characters.\n",
        "\n",
        "List: Can hold multiple types of elements.\n",
        "\n",
        "3. Modification:\n",
        "\n",
        "String: Modification creates a new string.\n",
        "\n",
        "List: Elements can be modified in place.\n",
        "\n",
        "4. Concatenation:\n",
        "\n",
        "String: Use + to concatenate strings.\n",
        "\n",
        "List: Use + or extend() to concatenate lists.\n",
        "\n",
        "5. Indexing & Slicing:\n",
        "\n",
        "String: Access characters using indexing and slicing.\n",
        "\n",
        "List: Access elements using indexing and slicing.\n",
        "\n",
        "6. Iteration:\n",
        "\n",
        "String: Iterate character by character.\n",
        "\n",
        "List: Iterate element by element.\n",
        "\n"
      ],
      "metadata": {
        "id": "AmnrZJXCG7Sz"
      }
    },
    {
      "cell_type": "markdown",
      "source": [
        "###Q.7.  How do tuples ensure data integrity in Python?\n",
        "\n",
        "  -> Tuples are immutable to ensure that their contents remain constant throughout their lifecycle, guaranteeing data integrity and reliability. This immutability allows tuples to be used as keys in dictionaries and elements in sets, as they can be hashed.\n",
        "\n",
        "1. Tuples Are Hashable (When Containing Immutable Elements):\n",
        "\n",
        "Hashable Tuples: Tuples can be used as keys in dictionaries or elements in sets because they are hashable (if they contain only immutable elements).\n",
        "\n",
        "Maintains Integrity in Data Structures: This makes them useful in scenarios where data integrity and uniqueness are required.\n",
        "\n",
        "2. Tuples Provide Protection in Function Arguments:\n",
        "\n",
        "Default Arguments with Tuples: Using tuples as function parameters ensures that the passed values cannot be accidentally modified inside the function.\n",
        "\n"
      ],
      "metadata": {
        "id": "0LgT7Dd1Igg7"
      }
    },
    {
      "cell_type": "markdown",
      "source": [
        "###Q.8. What is a hash table, and how does it relate to dictionaries in Python?\n",
        "\n",
        "  ->\n",
        " A hash table is a data structure that stores key-value pairs and allows fast retrieval of data.\n",
        "\n",
        "Keys: Unique identifiers used to locate values.\n",
        "\n",
        "Values: Data associated with the key.\n",
        "\n",
        "A hash function converts a key into a fixed-size integer (hash value).\n",
        "\n",
        "This hash value determines the index where the value is stored in an underlying array.\n",
        "\n",
        "#### How Dictionaries in Python Relate to Hash Tables:\n",
        "\n",
        "Python dictionaries are implemented using hash tables internally.\n",
        "\n",
        "When you create a dictionary, you're essentially creating a hash table to store key-value pairs.\n",
        "\n",
        "The keys in a dictionary are hashed using a hash function, and the resulting hash value is used as the index to locate the corresponding value in the underlying array.\n",
        "\n",
        "This allows for very fast lookups and other operations on dictionaries."
      ],
      "metadata": {
        "id": "vnjGVuneJWdy"
      }
    },
    {
      "cell_type": "markdown",
      "source": [
        "###Q.9. Can lists contain different data types in Python?\n",
        "\n",
        "  ->  Yes,\n",
        "In Python, lists are very flexible and can contain elements of different data types within the same list. Although it's not really common, a list can also contain a mix of Python types including strings, floats, and booleans."
      ],
      "metadata": {
        "id": "gOZXmkICLgCu"
      }
    },
    {
      "cell_type": "markdown",
      "source": [
        "###Q.10.Explain why strings are immutable in Python?\n",
        "\n",
        "  -> In Python, strings are immutable, meaning that once a string object is created, its content cannot be changed. There are several reasons for this design choice:\n",
        "\n",
        "Performance Optimization:\n",
        "Immutability allows Python to optimize memory usage and performance.\n",
        "\n",
        "Hashing and Dictionary Keys: Strings are often used as keys in dictionaries.\n",
        "\n",
        "Thread Safety: Immutability makes strings inherently thread-safe.\n",
        "\n",
        "Simplicity and Predictability: Immutability simplifies the behavior of strings.\n",
        "\n",
        "Functional Programming Paradigm: Python supports functional programming concepts, and immutability aligns well with this paradigm."
      ],
      "metadata": {
        "id": "EBB_rV7BMLxn"
      }
    },
    {
      "cell_type": "markdown",
      "source": [
        "###Q.11. What advantages do dictionaries offer over lists for certain tasks?\n",
        "\n",
        "  ->\n",
        "1. Fast Lookups and Retrieval (O(1) Time Complexity) :\n",
        "\n",
        "Dictionaries:\n",
        "Provide constant-time lookups on average using keys due to their underlying hash table implementation.\n",
        "\n",
        "Lists: Require linear-time (O(n)) lookups to find an item, especially if you’re searching for an item by value.\n",
        "\n",
        "2.Key-Value Pair Association:\n",
        "\n",
        "Dictionaries: Store data as key-value pairs, making it easy to map related information.\n",
        "\n",
        "Lists: Only store values, requiring additional logic to map relationships.\n",
        "\n",
        "3.No Need to Search by Index:\n",
        "\n",
        "Dictionaries: Access values directly by key without iterating.\n",
        "\n",
        "Lists: Require you to know the index or loop through the list.\n",
        "\n",
        "4.Flexibility in Data Representation:\n",
        "\n",
        "Dictionaries: Allow complex data structures as values (lists, dictionaries, etc.).\n",
        "\n",
        "Lists: Only allow a sequence of items, often requiring nested lists for complexity.\n",
        "\n",
        "5.Easier Data Modification:\n",
        "\n",
        "Dictionaries: Allow easy updates or modifications of existing data.\n",
        "\n",
        "Lists: Require searching and modifying at a specific index.\n"
      ],
      "metadata": {
        "id": "GDXoVzChAK0b"
      }
    },
    {
      "cell_type": "markdown",
      "source": [
        "###Q.12.Describe a scenario where using a tuple would be preferable over a list.\n",
        "\n",
        "-> Imagine you are developing a configuration module for a software application that requires a set of fixed settings that should not change throughout the program's execution. These settings might include values like the application's version number, the maximum number of users allowed, and the default timeout duration."
      ],
      "metadata": {
        "id": "NAnWRXf1BYWH"
      }
    },
    {
      "cell_type": "markdown",
      "source": [
        "Example:"
      ],
      "metadata": {
        "id": "E0ZTqBWyCBd2"
      }
    },
    {
      "cell_type": "code",
      "source": [
        "config_settings = (\"1.0.0\", 100, 30)\n",
        "\n",
        "version = config_settings[0]\n",
        "max_users = config_settings[1]\n",
        "timeout = config_settings[2]\n",
        "\n",
        "print(f\"Version: {version}, Max Users: {max_users}, Timeout: {timeout} seconds\")"
      ],
      "metadata": {
        "colab": {
          "base_uri": "https://localhost:8080/"
        },
        "id": "nV1oEfw0K7Iz",
        "outputId": "1741be7b-cd37-40e1-c61c-21b7aff3e4ef"
      },
      "execution_count": 1,
      "outputs": [
        {
          "output_type": "stream",
          "name": "stdout",
          "text": [
            "Version: 1.0.0, Max Users: 100, Timeout: 30 seconds\n"
          ]
        }
      ]
    },
    {
      "cell_type": "markdown",
      "source": [
        "###Q.13.How do sets handle duplicate values in Python?\n",
        "\n",
        "-> 1. Sets Automatically Eliminate Duplicates:\n",
        "\n",
        "Sets in Python are unordered collections of unique elements.\n",
        "\n",
        "If you try to add duplicate values to a set, they are automatically ignored.\n",
        "\n",
        "2.Adding Elements to a Set:\n",
        "\n",
        "When adding elements, if a value already exists in the set, Python ignores the duplicate.\n",
        "\n",
        "3.Converting a List to a Set to Remove Duplicates:\n",
        "\n",
        "If you have a list with duplicates and want to remove them, you can convert it to a set.\n",
        "\n",
        "4.Checking Membership with Duplicates:\n",
        "\n",
        "Since sets only contain unique values, checking for membership is more efficient.\n",
        "\n",
        "5.Updating Sets with New Values:\n",
        "\n",
        "When adding multiple elements using update(), duplicates are automatically ignored."
      ],
      "metadata": {
        "id": "KH0bd9kHCMwV"
      }
    },
    {
      "cell_type": "markdown",
      "source": [
        "###Q.14. How does the “in” keyword work differently for lists and dictionaries?\n",
        "\n",
        "-> 1. \"in\" with Lists – Checks for Values:\n",
        "\n",
        "When used with a list, the in keyword checks if a value is present in the list.\n",
        "\n",
        "It performs a linear search (O(n) time complexity), which means the search time increases as the list size grows.\n",
        "\n",
        "2.\"in\" with Dictionaries – Checks for Keys:\n",
        "\n",
        "When used with a dictionary, the in keyword checks for the presence of a key and not the values.\n",
        "\n",
        "Dictionary membership checking is much faster due to the underlying hash table structure, providing an average time complexity of O(1).\n",
        "\n",
        "3.\"in\" with Dictionary Keys vs. Values:\n",
        "\n",
        "Keys: in directly checks for key existence.\n",
        "\n",
        "Values: Use .values() for membership testing.\n",
        "\n",
        "4.\"in\" with Nested Data Structures:\n",
        "\n",
        "List of Lists/Dicts: Requires deeper iteration.\n",
        "\n",
        "Dictionary of Dictionaries: Key checking remains fast at the top level.\n"
      ],
      "metadata": {
        "id": "ObjpYDf6DDYO"
      }
    },
    {
      "cell_type": "markdown",
      "source": [
        "###Q.15.Can you modify the elements of a tuple? Explain why or why not?\n",
        "\n",
        "-> No, You Cannot Modify Elements of a Tuple.\n",
        "Tuples in Python are immutable, meaning once a tuple is created, its elements cannot be changed, added, or removed.\n",
        "\n",
        "Any attempt to modify, append, or delete elements in a tuple will result in a TypeError.\n",
        "\n",
        "Why Tuples Are Immutable:\n",
        "\n",
        "Tuples are stored in a way that makes them more memory-efficient and faster to access.\n",
        "\n",
        "Since tuples are often used for fixed data (like coordinates or configuration settings), immutability helps protect that data.\n"
      ],
      "metadata": {
        "id": "KSDwpCdEEOLi"
      }
    },
    {
      "cell_type": "markdown",
      "source": [
        "###Q.16.What is a nested dictionary, and give an example of its use case?\n",
        "\n",
        "->    Definition:\n",
        "\n",
        "A nested dictionary is a dictionary that contains another dictionary (or multiple dictionaries) as a value for one or more of its keys.\n",
        "\n",
        "In Python, dictionaries are stored as key-value pairs, and when the value of a key is another dictionary, it’s called a nested dictionary.\n",
        "\n",
        "Use Case: Storing Student Records\n",
        "\n",
        "Imagine you are building a system to store information about multiple students. Each student has details such as their name, age, and courses. Using a nested dictionary allows you to store and organize this data efficiently."
      ],
      "metadata": {
        "id": "CvFpvhlqEzqP"
      }
    },
    {
      "cell_type": "code",
      "source": [
        "students = {\n",
        "    \"student1\": {\n",
        "        \"name\": \"Alice\",\n",
        "        \"age\": 24,\n",
        "        \"courses\": [\"Math\", \"Physics\"]\n",
        "    },\n",
        "    \"student2\": {\n",
        "        \"name\": \"Bob\",\n",
        "        \"age\": 22,\n",
        "        \"courses\": [\"Biology\", \"Chemistry\"]\n",
        "    },\n",
        "    \"student3\": {\n",
        "        \"name\": \"Charlie\",\n",
        "        \"age\": 23,\n",
        "        \"courses\": [\"History\", \"English\"]\n",
        "    }\n",
        "}"
      ],
      "metadata": {
        "id": "oOstehcfFdA_"
      },
      "execution_count": 2,
      "outputs": []
    },
    {
      "cell_type": "markdown",
      "source": [
        "Accessing Nested Dictionary Elements:\n",
        "\n",
        "You can access elements by using multiple keys."
      ],
      "metadata": {
        "id": "GOjcHOP-Fq6d"
      }
    },
    {
      "cell_type": "code",
      "source": [
        "print(students[\"student1\"][\"name\"])\n",
        "print(students[\"student2\"][\"courses\"])\n"
      ],
      "metadata": {
        "colab": {
          "base_uri": "https://localhost:8080/"
        },
        "id": "G5sG_-BJB_dv",
        "outputId": "f5d59863-1d7f-436d-9401-953c29c84351"
      },
      "execution_count": 3,
      "outputs": [
        {
          "output_type": "stream",
          "name": "stdout",
          "text": [
            "Alice\n",
            "['Biology', 'Chemistry']\n"
          ]
        }
      ]
    },
    {
      "cell_type": "markdown",
      "source": [
        "###Q.17.Describe the time complexity of accessing elements in a dictionary.\n",
        "\n",
        "->  1. Average Case: O(1) (Constant Time)\n",
        "\n",
        "Accessing an element in a dictionary by its key is done in constant time on average, i.e., O(1).\n",
        "\n",
        "This is because Python dictionaries use a hash table internally to map keys to values.\n",
        "\n",
        "Hashing allows for direct access to elements without the need to search through the dictionary.\n",
        "\n",
        "2.Worst Case: O(n) (Linear Time)\n",
        "\n",
        "In rare cases, dictionary access can degrade to O(n) in the event of a hash collision.\n",
        "\n",
        "A hash collision occurs when multiple keys hash to the same index.\n",
        "\n",
        "3.Best Case: O(1) (Constant Time)\n",
        "\n",
        "When there are no collisions and the dictionary is well-balanced, the time complexity remains O(1).\n"
      ],
      "metadata": {
        "id": "0s2ecOixF3BZ"
      }
    },
    {
      "cell_type": "markdown",
      "source": [
        "###Q.18.In what situations are lists preferred over dictionaries?\n",
        "\n",
        "->\n",
        "1.Maintaining Order (Sequential Data):\n",
        "\n",
        "Lists preserve the insertion order of elements, making them ideal for situations where maintaining the sequence of items is essential.\n",
        "\n",
        "2.Iterating Through Elements (Sequential Access):\n",
        "\n",
        "Lists provide a more straightforward way to iterate through elements using for loops or list comprehensions.\n",
        "\n",
        "3.Storing Homogeneous Data (Similar Elements):\n",
        "\n",
        "Lists are generally used to store a collection of similar elements where keys are not necessary.\n",
        "\n",
        "When all elements are of the same type or follow a consistent structure, a list is a more natural choice.\n",
        "\n",
        "4.Faster Appends and Inserts at the End:\n",
        "\n",
        "Appending or inserting at the end of a list is O(1) in most cases, making it faster than adding items to a dictionary."
      ],
      "metadata": {
        "id": "D8xN3uPkGZua"
      }
    },
    {
      "cell_type": "markdown",
      "source": [
        "###Q.19.Why are dictionaries considered unordered, and how does that affect data retrieval?\n",
        "\n",
        "-> Even though modern dictionaries maintain insertion order, they are technically unordered because:\n",
        "\n",
        "Hash Table Structure:\n",
        "\n",
        "Dictionaries use a hash table internally to map keys to values.\n",
        "\n",
        "The key’s hash value determines where it is stored, which is not tied to any natural order.\n",
        "\n",
        "While the order is maintained in Python 3.7+, the underlying data structure does not rely on the order of keys.\n",
        "\n",
        "No Guaranteed Order in Hash Table:\n",
        "\n",
        "Insertion order is maintained now, but dictionaries are still not strictly ordered like lists or tuples.\n",
        "\n",
        "Operations like deletion and reinsertion can alter the insertion order, which might make future operations behave unexpectedly.\n",
        "\n",
        "Impact on Data Retrieval:\n",
        "\n",
        "1.Fast Retrieval (O(1) Lookup Time):\n",
        "\n",
        "Dictionaries use hashing to store and retrieve values in constant time on average.\n",
        "\n",
        "Regardless of whether the dictionary maintains order or not, lookup and retrieval of values by key are always O(1).\n",
        "\n",
        "2.Impact on Conversions to Lists or Tuples:\n",
        "\n",
        "When converting a dictionary to a list or tuple, the order of elements follows the insertion order.\n",
        "\n",
        "3.Deletion and Re-insertion May Affect Order:\n",
        "\n",
        "Deleting and re-inserting an element may cause the order to shift slightly, which can affect subsequent operations.\n"
      ],
      "metadata": {
        "id": "FOZn9UqOHP5W"
      }
    },
    {
      "cell_type": "markdown",
      "source": [
        "###Q.20. Explain the difference between a list and a dictionary in terms of data retrieval.\n",
        "\n",
        "-> Lists and dictionaries are both fundamental data structures in Python, but they have different characteristics and methods for data retrieval. Here’s a breakdown of the differences between the two in terms of data retrieval:\n",
        "\n",
        "1.Data Structure Type\n",
        "\n",
        "List: A list is an ordered collection of items that can be accessed by their index (position) in the list. The index is a zero-based integer that represents the position of an element in the list.\n",
        "\n",
        "Dictionary: A dictionary is an unordered collection of key-value pairs. Each value is accessed using a unique key, which can be of various immutable types (like strings, numbers, or tuples).\n",
        "\n",
        "2.Time Complexity:\n",
        "\n",
        "List: Accessing an element by index in a list has an average time complexity of O(1) (constant time). However, searching for an element by value requires O(n) time complexity, as you may need to iterate through the entire list.\n",
        "\n",
        "Dictionary: Accessing a value by key in a dictionary also has an average time complexity of O(1) due to its underlying hash table implementation. This makes dictionaries very efficient for lookups based on keys.\n",
        "\n",
        "3.Order of Elements:\n",
        "\n",
        "List: Lists maintain the order of elements, meaning that the order in which you add items is preserved. This allows for indexed access based on the position of elements.\n",
        "\n",
        "Dictionary: As of Python 3.7, dictionaries maintain the insertion order of keys as an implementation detail, and this was officially guaranteed in Python 3.8. However, the primary method of access is still through keys, not positions.\n",
        "\n",
        "4.Use Cases:\n",
        "\n",
        "List: Lists are ideal for ordered collections of items where the position matters, such as a list of names, a sequence of numbers, or any collection where you need to maintain order.\n",
        "\n",
        "Dictionary: Dictionaries are best suited for situations where you need to associate values with unique keys, such as storing user information (name, age, email) or configuration settings (key-value pairs)."
      ],
      "metadata": {
        "id": "7nDiwdDpIKqu"
      }
    },
    {
      "cell_type": "markdown",
      "source": [
        "# Practical Questions"
      ],
      "metadata": {
        "id": "1OdroyB2JAIX"
      }
    },
    {
      "cell_type": "markdown",
      "source": [
        "###Q.1.Write a code to create a string with your name and print it."
      ],
      "metadata": {
        "id": "gQ3hUYvNJD0f"
      }
    },
    {
      "cell_type": "code",
      "source": [
        "my_name = \"Himanshu Sharma\"\n",
        "my_name\n"
      ],
      "metadata": {
        "colab": {
          "base_uri": "https://localhost:8080/",
          "height": 36
        },
        "id": "7zyav9EVJC5L",
        "outputId": "80fb49d1-b9ca-4b4c-f1ae-1c78d157887a"
      },
      "execution_count": 5,
      "outputs": [
        {
          "output_type": "execute_result",
          "data": {
            "text/plain": [
              "'Himanshu Sharma'"
            ],
            "application/vnd.google.colaboratory.intrinsic+json": {
              "type": "string"
            }
          },
          "metadata": {},
          "execution_count": 5
        }
      ]
    },
    {
      "cell_type": "markdown",
      "source": [
        "###Q.2.Write a code to find the length of the string \"Hello World\"."
      ],
      "metadata": {
        "id": "uOWJCeiYJbCM"
      }
    },
    {
      "cell_type": "code",
      "source": [
        "my_string = \"Hello World\"\n",
        "string_length = len(my_string)\n",
        "string_length\n"
      ],
      "metadata": {
        "colab": {
          "base_uri": "https://localhost:8080/"
        },
        "id": "X7kjHm41JTfN",
        "outputId": "81c0cf55-c515-4fc8-c209-b236edf65f38"
      },
      "execution_count": 6,
      "outputs": [
        {
          "output_type": "execute_result",
          "data": {
            "text/plain": [
              "11"
            ]
          },
          "metadata": {},
          "execution_count": 6
        }
      ]
    },
    {
      "cell_type": "markdown",
      "source": [
        "###Q.3.Write a code to slice the first 3 characters from the string \"Python Programming\"."
      ],
      "metadata": {
        "id": "izDgMY3MJnxB"
      }
    },
    {
      "cell_type": "code",
      "source": [
        "my_string = \"Python Programming\"\n",
        "sliced_string = my_string[:3]\n",
        "sliced_string\n"
      ],
      "metadata": {
        "colab": {
          "base_uri": "https://localhost:8080/",
          "height": 36
        },
        "id": "rtlb2whdJlDo",
        "outputId": "0d9e93eb-73cb-4e45-f662-ab1dd8fcfe43"
      },
      "execution_count": 7,
      "outputs": [
        {
          "output_type": "execute_result",
          "data": {
            "text/plain": [
              "'Pyt'"
            ],
            "application/vnd.google.colaboratory.intrinsic+json": {
              "type": "string"
            }
          },
          "metadata": {},
          "execution_count": 7
        }
      ]
    },
    {
      "cell_type": "markdown",
      "source": [
        "###Q.4.Write a code to convert the string \"hello\" to uppercase."
      ],
      "metadata": {
        "id": "eHE3qDOwJyrs"
      }
    },
    {
      "cell_type": "code",
      "source": [
        "my_string = \"hello\"\n",
        "uppercase_string = my_string.upper()\n",
        "uppercase_string\n"
      ],
      "metadata": {
        "colab": {
          "base_uri": "https://localhost:8080/",
          "height": 36
        },
        "id": "f_oGQ2r_JuKW",
        "outputId": "253e7bc1-7a07-4736-f3a1-88b4fee35ce3"
      },
      "execution_count": 8,
      "outputs": [
        {
          "output_type": "execute_result",
          "data": {
            "text/plain": [
              "'HELLO'"
            ],
            "application/vnd.google.colaboratory.intrinsic+json": {
              "type": "string"
            }
          },
          "metadata": {},
          "execution_count": 8
        }
      ]
    },
    {
      "cell_type": "markdown",
      "source": [
        "###Q.5.Write a code to replace the word \"apple\" with \"orange\" in the string \"I like apple\"."
      ],
      "metadata": {
        "id": "Gz-jbGHWJ7ly"
      }
    },
    {
      "cell_type": "code",
      "source": [
        "my_string = \"I like apple\"\n",
        "new_string = my_string.replace(\"apple\", \"orange\")\n",
        "new_string\n"
      ],
      "metadata": {
        "colab": {
          "base_uri": "https://localhost:8080/",
          "height": 36
        },
        "id": "4uFQvyaiJ6QU",
        "outputId": "4b219a2e-7257-4853-e770-23d7ba9c61b1"
      },
      "execution_count": 9,
      "outputs": [
        {
          "output_type": "execute_result",
          "data": {
            "text/plain": [
              "'I like orange'"
            ],
            "application/vnd.google.colaboratory.intrinsic+json": {
              "type": "string"
            }
          },
          "metadata": {},
          "execution_count": 9
        }
      ]
    },
    {
      "cell_type": "markdown",
      "source": [
        "###Q.6.Write a code to create a list with numbers 1 to 5 and print it."
      ],
      "metadata": {
        "id": "sQfd1d7NKEdt"
      }
    },
    {
      "cell_type": "code",
      "source": [
        "my_list = list(range(1, 6))\n",
        "my_list\n"
      ],
      "metadata": {
        "colab": {
          "base_uri": "https://localhost:8080/"
        },
        "id": "pocC5n7kKC2b",
        "outputId": "79cd008d-cbdc-4627-94ba-ebc5122bc11f"
      },
      "execution_count": 10,
      "outputs": [
        {
          "output_type": "execute_result",
          "data": {
            "text/plain": [
              "[1, 2, 3, 4, 5]"
            ]
          },
          "metadata": {},
          "execution_count": 10
        }
      ]
    },
    {
      "cell_type": "markdown",
      "source": [
        "###Q.7.Write a code to append the number 10 to the list [1, 2, 3, 4]."
      ],
      "metadata": {
        "id": "5fg85bDJKSKt"
      }
    },
    {
      "cell_type": "code",
      "source": [
        "my_list = [1, 2, 3, 4]\n",
        "my_list.append(10)\n",
        "my_list\n"
      ],
      "metadata": {
        "colab": {
          "base_uri": "https://localhost:8080/"
        },
        "id": "KOF6cOlUKRgO",
        "outputId": "497012b5-cf76-483a-b2d0-00f2368be439"
      },
      "execution_count": 11,
      "outputs": [
        {
          "output_type": "execute_result",
          "data": {
            "text/plain": [
              "[1, 2, 3, 4, 10]"
            ]
          },
          "metadata": {},
          "execution_count": 11
        }
      ]
    },
    {
      "cell_type": "markdown",
      "source": [
        "###Q.8.Write a code to remove the number 3 from the list [1, 2, 3, 4, 5]."
      ],
      "metadata": {
        "id": "kevoUhm1KgNS"
      }
    },
    {
      "cell_type": "code",
      "source": [
        "my_list = [1, 2, 3, 4, 5]\n",
        "my_list.remove(3)\n",
        "my_list\n"
      ],
      "metadata": {
        "colab": {
          "base_uri": "https://localhost:8080/"
        },
        "id": "9nz0k4khKcOJ",
        "outputId": "81801cfe-aee2-4ecf-c220-42ffab636bb4"
      },
      "execution_count": 12,
      "outputs": [
        {
          "output_type": "execute_result",
          "data": {
            "text/plain": [
              "[1, 2, 4, 5]"
            ]
          },
          "metadata": {},
          "execution_count": 12
        }
      ]
    },
    {
      "cell_type": "markdown",
      "source": [
        "###Q.9. Write a code to access the second element in the list ['a', 'b', 'c', 'd']."
      ],
      "metadata": {
        "id": "wXOkIcrOKt_R"
      }
    },
    {
      "cell_type": "code",
      "source": [
        "my_list = ['a', 'b', 'c', 'd']\n",
        "second_element = my_list[1]\n",
        "second_element\n"
      ],
      "metadata": {
        "colab": {
          "base_uri": "https://localhost:8080/",
          "height": 36
        },
        "id": "ZkDeMlIhKs3-",
        "outputId": "463ae286-87ea-4b28-f2a9-a6fde1f9dc05"
      },
      "execution_count": 13,
      "outputs": [
        {
          "output_type": "execute_result",
          "data": {
            "text/plain": [
              "'b'"
            ],
            "application/vnd.google.colaboratory.intrinsic+json": {
              "type": "string"
            }
          },
          "metadata": {},
          "execution_count": 13
        }
      ]
    },
    {
      "cell_type": "markdown",
      "source": [
        "###Q.10. Write a code to reverse the list [10, 20, 30, 40, 50]."
      ],
      "metadata": {
        "id": "08jTn4ftK5Mh"
      }
    },
    {
      "cell_type": "code",
      "source": [
        "my_list = [10, 20, 30, 40, 50]\n",
        "reversed_list = my_list[::-1]\n",
        "reversed_list\n"
      ],
      "metadata": {
        "colab": {
          "base_uri": "https://localhost:8080/"
        },
        "id": "FyhY7RkpK3Ke",
        "outputId": "832e7ccc-ea6e-47d2-ef34-925977b08dbf"
      },
      "execution_count": 14,
      "outputs": [
        {
          "output_type": "execute_result",
          "data": {
            "text/plain": [
              "[50, 40, 30, 20, 10]"
            ]
          },
          "metadata": {},
          "execution_count": 14
        }
      ]
    },
    {
      "cell_type": "markdown",
      "source": [
        "###Q.11.Write a code to create a tuple with the elements 100, 200, 300 and print it."
      ],
      "metadata": {
        "id": "H_JAwz6CLAhb"
      }
    },
    {
      "cell_type": "code",
      "source": [
        "my_tuple = (100, 200, 300)\n",
        "my_tuple\n"
      ],
      "metadata": {
        "colab": {
          "base_uri": "https://localhost:8080/"
        },
        "id": "3402ee_pK_UU",
        "outputId": "58fd6d2f-3fda-43df-99c8-75a31cf3e61b"
      },
      "execution_count": 15,
      "outputs": [
        {
          "output_type": "execute_result",
          "data": {
            "text/plain": [
              "(100, 200, 300)"
            ]
          },
          "metadata": {},
          "execution_count": 15
        }
      ]
    },
    {
      "cell_type": "markdown",
      "source": [
        "###Q.12.Write a code to access the second-to-last element of the tuple ('red', 'green', 'blue', 'yellow')."
      ],
      "metadata": {
        "id": "FPofZ94SLJM7"
      }
    },
    {
      "cell_type": "code",
      "source": [
        "my_tuple = ('red', 'green', 'blue', 'yellow')\n",
        "second_to_last_element = my_tuple[-2]\n",
        "second_to_last_element\n"
      ],
      "metadata": {
        "colab": {
          "base_uri": "https://localhost:8080/",
          "height": 36
        },
        "id": "bDXCOK2CLIKQ",
        "outputId": "de44137d-821d-453c-c9a1-c4a7945ac5a4"
      },
      "execution_count": 16,
      "outputs": [
        {
          "output_type": "execute_result",
          "data": {
            "text/plain": [
              "'blue'"
            ],
            "application/vnd.google.colaboratory.intrinsic+json": {
              "type": "string"
            }
          },
          "metadata": {},
          "execution_count": 16
        }
      ]
    },
    {
      "cell_type": "markdown",
      "source": [
        "###Q.13. Write a code to find the minimum number in the tuple (10, 20, 5, 15)."
      ],
      "metadata": {
        "id": "cI_tWTffLRQd"
      }
    },
    {
      "cell_type": "code",
      "source": [
        "my_tuple = (10, 20, 5, 15)\n",
        "min_number = min(my_tuple)\n",
        "min_number\n"
      ],
      "metadata": {
        "colab": {
          "base_uri": "https://localhost:8080/"
        },
        "id": "ql4RH5aNLQc1",
        "outputId": "0108b648-8d69-4936-f6c5-7f42f4e6068c"
      },
      "execution_count": 17,
      "outputs": [
        {
          "output_type": "execute_result",
          "data": {
            "text/plain": [
              "5"
            ]
          },
          "metadata": {},
          "execution_count": 17
        }
      ]
    },
    {
      "cell_type": "markdown",
      "source": [
        "###Q.14. Write a code to find the index of the element \"cat\" in the tuple ('dog', 'cat', 'rabbit')."
      ],
      "metadata": {
        "id": "lkA5E2YjLZOW"
      }
    },
    {
      "cell_type": "code",
      "source": [
        "my_tuple = ('dog', 'cat', 'rabbit')\n",
        "index_of_cat = my_tuple.index('cat')\n",
        "index_of_cat\n"
      ],
      "metadata": {
        "colab": {
          "base_uri": "https://localhost:8080/"
        },
        "id": "QoEuYgcWLYDm",
        "outputId": "c66d6751-7d07-44d2-98c3-cbab11491b13"
      },
      "execution_count": 18,
      "outputs": [
        {
          "output_type": "execute_result",
          "data": {
            "text/plain": [
              "1"
            ]
          },
          "metadata": {},
          "execution_count": 18
        }
      ]
    },
    {
      "cell_type": "markdown",
      "source": [
        "###Q.15.Write a code to create a tuple containing three different fruits and check if \"kiwi\" is in it."
      ],
      "metadata": {
        "id": "cMyQSY_CLkBg"
      }
    },
    {
      "cell_type": "code",
      "source": [
        "my_tuple = (\"apple\", \"banana\", \"orange\")\n",
        "\n",
        "if \"kiwi\" in my_tuple:\n",
        "  print(\"Kiwi is in the tuple.\")\n",
        "else:\n",
        "  print(\"Kiwi is not in the tuple.\")\n"
      ],
      "metadata": {
        "colab": {
          "base_uri": "https://localhost:8080/"
        },
        "id": "_Qj0gb6RLiSi",
        "outputId": "8bfb3ce5-9eed-4f5e-e5a6-186c9d2895aa"
      },
      "execution_count": 19,
      "outputs": [
        {
          "output_type": "stream",
          "name": "stdout",
          "text": [
            "Kiwi is not in the tuple.\n"
          ]
        }
      ]
    },
    {
      "cell_type": "markdown",
      "source": [
        "###Q.16.Write a code to create a set with the elements 'a', 'b', 'c' and print it."
      ],
      "metadata": {
        "id": "vHaYUiY9Lu60"
      }
    },
    {
      "cell_type": "code",
      "source": [
        "my_set = {'a', 'b', 'c'}\n",
        "my_set\n"
      ],
      "metadata": {
        "colab": {
          "base_uri": "https://localhost:8080/"
        },
        "id": "cv6FNcFELtLF",
        "outputId": "66f34125-1e10-4236-fa0d-5f7b75ab92fc"
      },
      "execution_count": 20,
      "outputs": [
        {
          "output_type": "execute_result",
          "data": {
            "text/plain": [
              "{'a', 'b', 'c'}"
            ]
          },
          "metadata": {},
          "execution_count": 20
        }
      ]
    },
    {
      "cell_type": "markdown",
      "source": [
        "###Q.17.Write a code to clear all elements from the set {1, 2, 3, 4, 5}."
      ],
      "metadata": {
        "id": "skzaqCg8L5sY"
      }
    },
    {
      "cell_type": "code",
      "source": [
        "my_set = {1, 2, 3, 4, 5}\n",
        "my_set.clear()\n",
        "my_set\n"
      ],
      "metadata": {
        "colab": {
          "base_uri": "https://localhost:8080/"
        },
        "id": "RVGRw6R1L3iv",
        "outputId": "ab093dbd-c744-4a63-bda7-1290e126df54"
      },
      "execution_count": 21,
      "outputs": [
        {
          "output_type": "execute_result",
          "data": {
            "text/plain": [
              "set()"
            ]
          },
          "metadata": {},
          "execution_count": 21
        }
      ]
    },
    {
      "cell_type": "markdown",
      "source": [
        "###Q.18.Write a code to remove the element 4 from the set {1, 2, 3, 4}."
      ],
      "metadata": {
        "id": "jAwh1kQDMCGl"
      }
    },
    {
      "cell_type": "code",
      "source": [
        "my_set = {1, 2, 3, 4}\n",
        "my_set.remove(4)\n",
        "my_set\n"
      ],
      "metadata": {
        "colab": {
          "base_uri": "https://localhost:8080/"
        },
        "id": "r3N3zexvMILo",
        "outputId": "0777de01-7ed2-45dc-9f50-7c87f40fa087"
      },
      "execution_count": 22,
      "outputs": [
        {
          "output_type": "execute_result",
          "data": {
            "text/plain": [
              "{1, 2, 3}"
            ]
          },
          "metadata": {},
          "execution_count": 22
        }
      ]
    },
    {
      "cell_type": "markdown",
      "source": [
        "###Q.19.Write a code to find the union of two sets {1, 2, 3} and {3, 4, 5}."
      ],
      "metadata": {
        "id": "6nmrFhMdMLwT"
      }
    },
    {
      "cell_type": "code",
      "source": [
        "set1 = {1, 2, 3}\n",
        "set2 = {3, 4, 5}\n",
        "\n",
        "union_set = set1.union(set2)\n",
        "union_set\n"
      ],
      "metadata": {
        "colab": {
          "base_uri": "https://localhost:8080/"
        },
        "id": "RKgxbWl6MAj0",
        "outputId": "ed21f3fc-f66d-4fa6-f74e-a1609362b0a5"
      },
      "execution_count": 23,
      "outputs": [
        {
          "output_type": "execute_result",
          "data": {
            "text/plain": [
              "{1, 2, 3, 4, 5}"
            ]
          },
          "metadata": {},
          "execution_count": 23
        }
      ]
    },
    {
      "cell_type": "markdown",
      "source": [
        "###Q.20.Write a code to find the intersection of two sets {1, 2, 3} and {2, 3, 4}."
      ],
      "metadata": {
        "id": "s6MPrvnLMcYQ"
      }
    },
    {
      "cell_type": "code",
      "source": [
        "set1 = {1, 2, 3}\n",
        "set2 = {2, 3, 4}\n",
        "\n",
        "intersection_set = set1.intersection(set2)\n",
        "intersection_set\n"
      ],
      "metadata": {
        "colab": {
          "base_uri": "https://localhost:8080/"
        },
        "id": "uD59TQn9MboT",
        "outputId": "0333f05e-6fc9-4fb5-f93c-511ffffa3ae4"
      },
      "execution_count": 24,
      "outputs": [
        {
          "output_type": "execute_result",
          "data": {
            "text/plain": [
              "{2, 3}"
            ]
          },
          "metadata": {},
          "execution_count": 24
        }
      ]
    },
    {
      "cell_type": "markdown",
      "source": [
        "###Q.21.Write a code to create a dictionary with the keys \"name\", \"age\", and \"city\", and print it."
      ],
      "metadata": {
        "id": "jbncztseMnCS"
      }
    },
    {
      "cell_type": "code",
      "source": [
        "my_dictionary = {\n",
        "    \"name\": \"John Doe\",\n",
        "    \"age\": 30,\n",
        "    \"city\": \"New York\"\n",
        "}\n",
        "my_dictionary\n"
      ],
      "metadata": {
        "colab": {
          "base_uri": "https://localhost:8080/"
        },
        "id": "PcepRWcgMmGE",
        "outputId": "f49a36c7-5e63-4257-ea62-f40e25c6e2b9"
      },
      "execution_count": 25,
      "outputs": [
        {
          "output_type": "execute_result",
          "data": {
            "text/plain": [
              "{'name': 'John Doe', 'age': 30, 'city': 'New York'}"
            ]
          },
          "metadata": {},
          "execution_count": 25
        }
      ]
    },
    {
      "cell_type": "markdown",
      "source": [
        "###Q.22.Write a code to add a new key-value pair \"country\": \"USA\" to the dictionary {'name': 'John', 'age': 25}."
      ],
      "metadata": {
        "id": "A9FOf3ApMu9A"
      }
    },
    {
      "cell_type": "code",
      "source": [
        "my_dict = {'name': 'John', 'age': 25}\n",
        "my_dict['country'] = 'USA'\n",
        "my_dict\n"
      ],
      "metadata": {
        "colab": {
          "base_uri": "https://localhost:8080/"
        },
        "id": "_uIynjjdMt8B",
        "outputId": "9a617bc1-5f1a-4ae8-cb2b-07eb710869be"
      },
      "execution_count": 26,
      "outputs": [
        {
          "output_type": "execute_result",
          "data": {
            "text/plain": [
              "{'name': 'John', 'age': 25, 'country': 'USA'}"
            ]
          },
          "metadata": {},
          "execution_count": 26
        }
      ]
    },
    {
      "cell_type": "markdown",
      "source": [
        "###Q.23.Write a code to access the value associated with the key \"name\" in the dictionary {'name': 'Alice', 'age': 30}."
      ],
      "metadata": {
        "id": "ecoDBgE7M4sH"
      }
    },
    {
      "cell_type": "code",
      "source": [
        "my_dict = {'name': 'Alice', 'age': 30}\n",
        "name_value = my_dict['name']\n",
        "name_value\n"
      ],
      "metadata": {
        "colab": {
          "base_uri": "https://localhost:8080/",
          "height": 36
        },
        "id": "d9p_6U6eM3S9",
        "outputId": "d765b0c4-dc4e-4ae2-e712-3ed95ced8531"
      },
      "execution_count": 27,
      "outputs": [
        {
          "output_type": "execute_result",
          "data": {
            "text/plain": [
              "'Alice'"
            ],
            "application/vnd.google.colaboratory.intrinsic+json": {
              "type": "string"
            }
          },
          "metadata": {},
          "execution_count": 27
        }
      ]
    },
    {
      "cell_type": "markdown",
      "source": [
        "###Q.24.Write a code to remove the key \"age\" from the dictionary {'name': 'Bob', 'age': 22, 'city': 'New York'}."
      ],
      "metadata": {
        "id": "P9duGzlTNAqh"
      }
    },
    {
      "cell_type": "code",
      "source": [
        "my_dict = {'name': 'Bob', 'age': 22, 'city': 'New York'}\n",
        "del my_dict['age']\n",
        "my_dict\n"
      ],
      "metadata": {
        "colab": {
          "base_uri": "https://localhost:8080/"
        },
        "id": "QOZj59FbNABa",
        "outputId": "d16310b3-dcf4-4bd0-dd89-d026b8525c1d"
      },
      "execution_count": 28,
      "outputs": [
        {
          "output_type": "execute_result",
          "data": {
            "text/plain": [
              "{'name': 'Bob', 'city': 'New York'}"
            ]
          },
          "metadata": {},
          "execution_count": 28
        }
      ]
    },
    {
      "cell_type": "markdown",
      "source": [
        "###Q.25.Write a code to check if the key \"city\" exists in the dictionary {'name': 'Alice', 'city': 'Paris'}."
      ],
      "metadata": {
        "id": "EPrsvz9DNHyO"
      }
    },
    {
      "cell_type": "code",
      "source": [
        "my_dict = {'name': 'Alice', 'city': 'Paris'}\n",
        "\n",
        "if 'city' in my_dict:\n",
        "  print(\"The key 'city' exists in the dictionary.\")\n",
        "else:\n",
        "  print(\"The key 'city' does not exist in the dictionary.\")\n"
      ],
      "metadata": {
        "colab": {
          "base_uri": "https://localhost:8080/"
        },
        "id": "4eXaexAlNGkT",
        "outputId": "7c01e412-05b1-43c9-a3d2-5e300fdc6b5b"
      },
      "execution_count": 29,
      "outputs": [
        {
          "output_type": "stream",
          "name": "stdout",
          "text": [
            "The key 'city' exists in the dictionary.\n"
          ]
        }
      ]
    },
    {
      "cell_type": "markdown",
      "source": [
        "###Q.26.Write a code to create a list, a tuple, and a dictionary, and print them all."
      ],
      "metadata": {
        "id": "yOz4qw7cNO2U"
      }
    },
    {
      "cell_type": "code",
      "source": [
        "my_list = [1, 2, 3, 4, 5]\n",
        "\n",
        "my_tuple = (6, 7, 8, 9, 10)\n",
        "\n",
        "my_dict = {\"name\": \"John\", \"age\": 30, \"city\": \"New York\"}\n",
        "\n",
        "print(\"List:\", my_list)\n",
        "print(\"Tuple:\", my_tuple)\n",
        "print(\"Dictionary:\", my_dict)\n"
      ],
      "metadata": {
        "colab": {
          "base_uri": "https://localhost:8080/"
        },
        "id": "Xr31aVzzNNtU",
        "outputId": "b3124dd9-dab2-4310-cebb-1e76f2d611db"
      },
      "execution_count": 30,
      "outputs": [
        {
          "output_type": "stream",
          "name": "stdout",
          "text": [
            "List: [1, 2, 3, 4, 5]\n",
            "Tuple: (6, 7, 8, 9, 10)\n",
            "Dictionary: {'name': 'John', 'age': 30, 'city': 'New York'}\n"
          ]
        }
      ]
    },
    {
      "cell_type": "markdown",
      "source": [
        "###Q.27.Write a code to create a list of 5 random numbers between 1 and 100, sort it in ascending order."
      ],
      "metadata": {
        "id": "K9bgEUxPNa_F"
      }
    },
    {
      "cell_type": "code",
      "source": [
        "import random\n",
        "\n",
        "random_numbers = [random.randint(1, 100) for _ in range(5)]\n",
        "\n",
        "random_numbers.sort()\n",
        "\n",
        "print(\"Sorted list of random numbers:\", random_numbers)\n"
      ],
      "metadata": {
        "colab": {
          "base_uri": "https://localhost:8080/"
        },
        "id": "9PUzivaENYGg",
        "outputId": "d5c8d8f7-4a49-4140-8a68-d95be04d8ffb"
      },
      "execution_count": 31,
      "outputs": [
        {
          "output_type": "stream",
          "name": "stdout",
          "text": [
            "Sorted list of random numbers: [6, 31, 36, 52, 82]\n"
          ]
        }
      ]
    },
    {
      "cell_type": "markdown",
      "source": [
        "###Q.28.Write a code to create a list with strings and print the element at the third index."
      ],
      "metadata": {
        "id": "v6ulwQIhN6dz"
      }
    },
    {
      "cell_type": "code",
      "source": [
        "my_list = [\"apple\", \"banana\", \"orange\", \"grape\", \"kiwi\"]\n",
        "\n",
        "element_at_third_index = my_list[3]\n",
        "\n",
        "print(\"Element at the third index:\", element_at_third_index)\n"
      ],
      "metadata": {
        "colab": {
          "base_uri": "https://localhost:8080/"
        },
        "id": "uewNWQ1CNjdd",
        "outputId": "5efbddb8-5595-4fb0-e561-17d825bc7ee9"
      },
      "execution_count": 32,
      "outputs": [
        {
          "output_type": "stream",
          "name": "stdout",
          "text": [
            "Element at the third index: grape\n"
          ]
        }
      ]
    },
    {
      "cell_type": "markdown",
      "source": [
        "###Q.29.Write a code to combine two dictionaries into one and print the result."
      ],
      "metadata": {
        "id": "wBuUmoWcOGy1"
      }
    },
    {
      "cell_type": "code",
      "source": [
        "dict1 = {'a': 1, 'b': 2}\n",
        "dict2 = {'c': 3, 'd': 4}\n",
        "\n",
        "combined_dict = {**dict1, **dict2}\n",
        "\n",
        "combined_dict\n"
      ],
      "metadata": {
        "colab": {
          "base_uri": "https://localhost:8080/"
        },
        "id": "ACWoo7H2ODMn",
        "outputId": "848506ed-f143-4667-97c3-792ed05bc4e3"
      },
      "execution_count": 33,
      "outputs": [
        {
          "output_type": "execute_result",
          "data": {
            "text/plain": [
              "{'a': 1, 'b': 2, 'c': 3, 'd': 4}"
            ]
          },
          "metadata": {},
          "execution_count": 33
        }
      ]
    },
    {
      "cell_type": "markdown",
      "source": [
        "###Q.30.Write a code to convert a list of strings into a set."
      ],
      "metadata": {
        "id": "XmFkn19cON8S"
      }
    },
    {
      "cell_type": "code",
      "source": [
        "my_list = [\"apple\", \"banana\", \"orange\", \"apple\", \"grape\"]\n",
        "\n",
        "my_set = set(my_list)\n",
        "\n",
        "print(\"Set:\", my_set)\n"
      ],
      "metadata": {
        "colab": {
          "base_uri": "https://localhost:8080/"
        },
        "id": "xwXxLilMONTW",
        "outputId": "baa72a53-fefc-4023-b605-c7e56ee6e12d"
      },
      "execution_count": 34,
      "outputs": [
        {
          "output_type": "stream",
          "name": "stdout",
          "text": [
            "Set: {'grape', 'orange', 'banana', 'apple'}\n"
          ]
        }
      ]
    }
  ]
}